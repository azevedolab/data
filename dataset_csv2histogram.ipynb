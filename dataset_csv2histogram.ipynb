{
  "cells": [
    {
      "cell_type": "code",
      "execution_count": null,
      "id": "dc4701fb-f176-46b4-ae18-5877739c49b6",
      "metadata": {
        "id": "dc4701fb-f176-46b4-ae18-5877739c49b6",
        "collapsed": true
      },
      "outputs": [],
      "source": [
        "# Script to generate histograms for data in a csv file.\n",
        "#\n",
        "################################################################################\n",
        "# Dr. Walter F. de Azevedo, Jr.                                                #\n",
        "# https://github.com/azevedolab                                                #\n",
        "# July 10, 2024                                                                #\n",
        "################################################################################\n",
        "#\n",
        "# Import section\n",
        "import pandas as pd\n",
        "from matplotlib import pyplot as plt\n",
        "import warnings\n",
        "warnings.filterwarnings(\"ignore\")\n",
        "\n",
        "# Set up inputs for different datasets\n",
        "# Diabetes (English)\n",
        "# Diabetes data as discussed in the book Loy, James. Neural Network Projects\n",
        "# with Python: The ultimate guide to using Python to explore the true power of\n",
        "# neural networks through six projects (p. 115). Packt Publishing. Kindle\n",
        "# edition.\n",
        "#file_in = \"/content/diabetes.csv\"\n",
        "#target_label = \"Outcome\"\n",
        "#feature_target_list = [\"Pregnancies\",\"Glucose\",\"BloodPressure\",\"SkinThickness\",\n",
        "#\"Insulin\",\"BMI\",\"DiabetesPedigreeFunction\",\"Age\",\"Outcome\"]\n",
        "\n",
        "# Diabetes (Portuguese)\n",
        "# Diabetes data as discussed in the book Loy, James. Neural Network Projects\n",
        "# with Python: The ultimate guide to using Python to explore the true power of\n",
        "# neural networks through six projects (p. 115). Packt Publishing. Kindle\n",
        "# edition.\n",
        "#file_in = \"/content/diabetes_portuguese.csv\"\n",
        "#target_label = \"Resultado\"\n",
        "#feature_target_list = [\"Gravidezes\",\"Glicose\",\"Pressão Sanguínea\",\n",
        "#\"Espessura da Pele\",\"Insulina\",\"IMC\",\"Pedigree para Diabetes\",\"Idade\",\n",
        "#\"Resultado\"]\n",
        "\n",
        "# Exoplanet data (source: https://phl.upr.edu/hwc/data)\n",
        "#file_in = \"/content/hwc.csv\"\n",
        "#target_label = \"P_HABITABLE\"\n",
        "#feature_target_list = [\"P_RADIUS\",\"S_TEMPERATURE\",\"P_GRAVITY\",\"P_DENSITY\",\n",
        "#\"P_ESI\",\"S_MASS\",\"P_PERIOD\",\"P_DISTANCE\",\"P_HABITABLE\"]\n",
        "\n",
        "# Titanic data (source:https://data.world/xprizeai-ai/titanic-disaster-dataset)\n",
        "#file_in = \"/content/titanic_reduced_clean.csv\"\n",
        "#target_label = \"survived\"\n",
        "#feature_target_list = [\"sex\",\"pclass\",\"survived\",\"age\",\"sibsp\",\"parch\",\"fare\"]\n",
        "\n",
        "# CASF-2016 Ki dataset\n",
        "# Data discussed in de Azevedo Jr. et 2024 (de Azevedo WF Jr, Quiroga R,\n",
        "# Villarreal MA, da Silveira NJF, Bitencourt-Ferreira G, da Silva AD,\n",
        "# Veit-Acosta M, Oliveira PR, Tutone M, Biziukova N, Poroikov V, Tarasova O,\n",
        "# Baud S. SAnDReS 2.0: Development of machine-learning models to explore the\n",
        "# scoring function space. J Comput Chem. 2024 Jun 20. doi: 10.1002/jcc.27449.\n",
        "# Epub ahead of print. PMID: 38900052).\n",
        "#\n",
        "# Features: Gauss 2, C, Gauss 1, Hydrophobic, N, Torsional, B-factor ratio\n",
        "# (Ligand/Receptor), Torsions, S, Receptor B-factor(A2), Q, Average Q,\n",
        "# Hydrogen\n",
        "file_in = \"/content/CASF-2016_Ki.csv\"\n",
        "target_label = \"pKi\"\n",
        "feature_target_list = [\"Gauss 1\",\"Gauss 2\",\"Repulsion\",\"Hydrophobic\",\n",
        "\"Hydrogen\",\"Torsional\",\"Torsions\",\"C\",\"N\",\"O\",\"S\",\"P\",\"Receptor B-factor(A2)\",\n",
        "\"Average Q\",\"Q\",\"B-factor ratio (Ligand/Receptor)\"]\n",
        "\n",
        "# California Housing\n",
        "#dir_in = \"datasets/housing/\"\n",
        "#file_in = \"housing.tgz\"\n",
        "#target_label = \"median_house_value\"\n",
        "#feature_target_list =[\"longitude\",\"latitude\",\"housing_median_age\",\"total_rooms\",\n",
        "#\"total_bedrooms\",\"population\",\"households\",\"median_income\",\"median_house_value\"]\n",
        "\n",
        "# Read data to generate histograms\n",
        "df = pd.read_csv(file_in)\n",
        "df = df[feature_target_list]\n",
        "\n",
        "# Show the first 5 rows of the dataset\n",
        "print(df.head())\n",
        "\n",
        "# Generate histogram\n",
        "df.hist()\n",
        "plt.tight_layout()\n",
        "plt.show()"
      ]
    },
    {
      "cell_type": "markdown",
      "source": [],
      "metadata": {
        "id": "9noy-PzKpVyp"
      },
      "id": "9noy-PzKpVyp"
    },
    {
      "cell_type": "markdown",
      "source": [],
      "metadata": {
        "id": "hw0i1UL3pWZz"
      },
      "id": "hw0i1UL3pWZz"
    }
  ],
  "metadata": {
    "kernelspec": {
      "display_name": "Python 3 (ipykernel)",
      "language": "python",
      "name": "python3"
    },
    "language_info": {
      "codemirror_mode": {
        "name": "ipython",
        "version": 3
      },
      "file_extension": ".py",
      "mimetype": "text/x-python",
      "name": "python",
      "nbconvert_exporter": "python",
      "pygments_lexer": "ipython3",
      "version": "3.11.5"
    },
    "colab": {
      "provenance": []
    }
  },
  "nbformat": 4,
  "nbformat_minor": 5
}